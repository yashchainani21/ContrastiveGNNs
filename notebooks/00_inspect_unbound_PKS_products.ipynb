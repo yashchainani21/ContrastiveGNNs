{
 "cells": [
  {
   "cell_type": "code",
   "execution_count": 26,
   "id": "277ee891",
   "metadata": {},
   "outputs": [],
   "source": [
    "import bcs\n",
    "from rdkit import Chem\n",
    "import pickle"
   ]
  },
  {
   "cell_type": "code",
   "execution_count": 27,
   "id": "fa2d31fe",
   "metadata": {},
   "outputs": [],
   "source": [
    "with open(\"../data/interim/unbound_PKS_products_3_ext_mods_no_stereo.pkl\", \"rb\") as f:\n",
    "    unbound_PKS_products = pickle.load(f)"
   ]
  },
  {
   "cell_type": "code",
   "execution_count": 28,
   "id": "ff8de84d",
   "metadata": {},
   "outputs": [],
   "source": [
    "unbound_PKS_product_smiles = list(unbound_PKS_products.values())\n",
    "PKS_designs = list(unbound_PKS_products.keys())"
   ]
  },
  {
   "cell_type": "code",
   "execution_count": 29,
   "id": "a4051f21",
   "metadata": {},
   "outputs": [
    {
     "name": "stdout",
     "output_type": "stream",
     "text": [
      "Module 0: [\"AT{'substrate': 'Methylmalonyl-CoA'}\", 'loading: True']\n",
      "Module 1: [\"AT{'substrate': 'Methylmalonyl-CoA'}\", \"KR{'type': 'A2'}\", 'loading: False']\n",
      "Module 2: [\"AT{'substrate': 'Malonyl-CoA'}\", \"KR{'type': 'A'}\", 'loading: False']\n",
      "Module 3: [\"AT{'substrate': 'Malonyl-CoA'}\", \"KR{'type': 'A'}\", 'loading: False']\n",
      "--------------------------------\n"
     ]
    },
    {
     "data": {
      "image/png": "[encoded data removed]",
      "text/plain": [
       "<rdkit.Chem.rdchem.Mol at 0x31e0271b0>"
      ]
     },
     "metadata": {},
     "output_type": "display_data"
    }
   ],
   "source": [
    "idx = 100\n",
    "PKS_design = PKS_designs[idx].modules\n",
    "for i, module in enumerate(PKS_design):\n",
    "    print(f\"Module {i}: {module}\")\n",
    "\n",
    "print('--------------------------------')\n",
    "display(Chem.MolFromSmiles(unbound_PKS_product_smiles[idx]))"
   ]
  },
  {
   "cell_type": "code",
   "execution_count": null,
   "id": "91940722",
   "metadata": {},
   "outputs": [],
   "source": []
  }
 ],
 "metadata": {
  "kernelspec": {
   "display_name": "MCTS_py311_env",
   "language": "python",
   "name": "python3"
  },
  "language_info": {
   "codemirror_mode": {
    "name": "ipython",
    "version": 3
   },
   "file_extension": ".py",
   "mimetype": "text/x-python",
   "name": "python",
   "nbconvert_exporter": "python",
   "pygments_lexer": "ipython3",
   "version": "3.11.13"
  }
 },
 "nbformat": 4,
 "nbformat_minor": 5
}
