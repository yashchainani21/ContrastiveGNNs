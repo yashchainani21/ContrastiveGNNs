{
 "cells": [
  {
   "cell_type": "code",
   "execution_count": 1,
   "id": "277ee891",
   "metadata": {},
   "outputs": [
    {
     "name": "stderr",
     "output_type": "stream",
     "text": [
      "/Users/yashchainani/Desktop/PythonProjects/RetroTideV2/bcs/bcs.py:54: UserWarning: pkg_resources is deprecated as an API. See https://setuptools.pypa.io/en/latest/pkg_resources.html. The pkg_resources package is slated for removal as early as 2025-11-30. Refrain from using this package or pin to Setuptools<81.\n",
      "  import pkg_resources\n",
      "[13:52:25] product atom-mapping number 10 not found in reactants.\n",
      "[13:52:25] product atom-mapping number 10 not found in reactants.\n",
      "[13:52:25] product atom-mapping number 10 not found in reactants.\n",
      "[13:52:25] product atom-mapping number 10 not found in reactants.\n",
      "[13:52:25] product atom-mapping number 10 not found in reactants.\n",
      "[13:52:25] product atom-mapping number 10 not found in reactants.\n",
      "[13:52:25] product atom-mapping number 10 not found in reactants.\n",
      "[13:52:25] product atom-mapping number 10 not found in reactants.\n",
      "[13:52:25] product atom-mapping number 10 not found in reactants.\n",
      "[13:52:25] product atom-mapping number 10 not found in reactants.\n",
      "[13:52:25] product atom-mapping number 10 not found in reactants.\n"
     ]
    }
   ],
   "source": [
    "import bcs\n",
    "from rdkit import Chem\n",
    "import pickle"
   ]
  },
  {
   "cell_type": "code",
   "execution_count": 2,
   "id": "fa2d31fe",
   "metadata": {},
   "outputs": [],
   "source": [
    "with open(\"../data/interim/unbound_PKS_products_3_ext_mods_no_stereo.pkl\", \"rb\") as f:\n",
    "    unbound_PKS_products = pickle.load(f)"
   ]
  },
  {
   "cell_type": "code",
   "execution_count": 4,
   "id": "ff8de84d",
   "metadata": {},
   "outputs": [],
   "source": [
    "unbound_PKS_product_smiles = list(unbound_PKS_products.values())\n",
    "PKS_designs = list(unbound_PKS_products.keys())"
   ]
  },
  {
   "cell_type": "code",
   "execution_count": 25,
   "id": "a4051f21",
   "metadata": {},
   "outputs": [
    {
     "name": "stdout",
     "output_type": "stream",
     "text": [
      "Module 0: [\"AT{'substrate': 'Methylmalonyl-CoA'}\", 'loading: True']\n",
      "Module 1: [\"AT{'substrate': 'Methylmalonyl-CoA'}\", \"KR{'type': 'B1'}\", 'DH{}', 'ER{}', 'loading: False']\n",
      "Module 2: [\"AT{'substrate': 'Methylmalonyl-CoA'}\", \"KR{'type': 'B1'}\", 'DH{}', 'loading: False']\n",
      "Module 3: [\"AT{'substrate': 'Methylmalonyl-CoA'}\", \"KR{'type': 'B1'}\", 'DH{}', 'loading: False']\n",
      "--------------------------------\n"
     ]
    },
    {
     "data": {
      "image/png": "[encoded data removed]",
      "text/plain": [
       "<rdkit.Chem.rdchem.Mol at 0x31e027300>"
      ]
     },
     "metadata": {},
     "output_type": "display_data"
    }
   ],
   "source": [
    "idx = 100\n",
    "PKS_design = PKS_designs[idx].modules\n",
    "for i, module in enumerate(PKS_design):\n",
    "    print(f\"Module {i}: {module}\")\n",
    "\n",
    "print('--------------------------------')\n",
    "display(Chem.MolFromSmiles(unbound_PKS_product_smiles[idx]))"
   ]
  },
  {
   "cell_type": "code",
   "execution_count": null,
   "id": "1a838c23",
   "metadata": {},
   "outputs": [],
   "source": []
  }
 ],
 "metadata": {
  "kernelspec": {
   "display_name": "MCTS_py311_env",
   "language": "python",
   "name": "python3"
  },
  "language_info": {
   "codemirror_mode": {
    "name": "ipython",
    "version": 3
   },
   "file_extension": ".py",
   "mimetype": "text/x-python",
   "name": "python",
   "nbconvert_exporter": "python",
   "pygments_lexer": "ipython3",
   "version": "3.11.13"
  }
 },
 "nbformat": 4,
 "nbformat_minor": 5
}
