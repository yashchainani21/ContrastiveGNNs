{
 "cells": [
  {
   "cell_type": "markdown",
   "metadata": {},
   "source": [
    "# t-SNE Analysis of PKS vs non-PKS Molecules\n",
    "\n",
    "This notebook loads fingerprinted train/val/test splits, combines them,\n",
    "reduces ECFP4 (2048-bit) to 2D with t-SNE, and plots colored by class (PKS vs non-PKS)."
   ]
  },
  {
   "cell_type": "code",
   "execution_count": 1,
   "id": "bc94469f",
   "metadata": {},
   "outputs": [
    {
     "data": {
      "text/plain": [
       "{'train': PosixPath('../data/train/baseline_train_ecfp4.parquet'),\n",
       " 'val': PosixPath('../data/val/baseline_val_ecfp4.parquet'),\n",
       " 'test': PosixPath('../data/test/baseline_test_ecfp4.parquet')}"
      ]
     },
     "execution_count": 1,
     "metadata": {},
     "output_type": "execute_result"
    }
   ],
   "source": [
    "from pathlib import Path\n",
    "import pandas as pd\n",
    "import numpy as np\n",
    "import matplotlib.pyplot as plt\n",
    "import seaborn as sns\n",
    "from sklearn.manifold import TSNE\n",
    "\n",
    "data_dir = Path('../data')\n",
    "splits = ['train', 'val', 'test']\n",
    "\n",
    "def find_split(split):\n",
    "    candidates = [\n",
    "        data_dir / split / f'baseline_{split}_ecfp4.parquet',\n",
    "        data_dir / split / f'baseline_{split}_ecfp4.csv',\n",
    "        data_dir / split / f'baseline_{split}.parquet',\n",
    "        data_dir / split / f'baseline_{split}.csv',\n",
    "    ]\n",
    "    for p in candidates:\n",
    "        if p.exists():\n",
    "            return p\n",
    "    return None\n",
    "\n",
    "paths = {s: find_split(s) for s in splits}\n",
    "paths\n"
   ]
  },
  {
   "cell_type": "code",
   "execution_count": 2,
   "id": "0acd562e",
   "metadata": {},
   "outputs": [
    {
     "data": {
      "text/plain": [
       "((4045434, 2051),\n",
       " bio     2106960\n",
       " chem    1925162\n",
       " PKS       13312\n",
       " Name: source, dtype: int64)"
      ]
     },
     "execution_count": 2,
     "metadata": {},
     "output_type": "execute_result"
    }
   ],
   "source": [
    "# Load and combine\n",
    "dfs = []\n",
    "for s, p in paths.items():\n",
    "    if p is None:\n",
    "        print(f'Warning: missing split {s}; skipping')\n",
    "        continue\n",
    "    if p.suffix == '.parquet':\n",
    "        df = pd.read_parquet(p)\n",
    "    else:\n",
    "        df = pd.read_csv(p)\n",
    "    df['split'] = s\n",
    "    dfs.append(df)\n",
    "\n",
    "df_all = pd.concat(dfs, ignore_index=True)\n",
    "df_all.shape, df_all['source'].value_counts()\n"
   ]
  },
  {
   "cell_type": "code",
   "execution_count": null,
   "id": "e20befc1",
   "metadata": {},
   "outputs": [],
   "source": [
    "# Prepare features and labels (no subsampling)\n",
    "fp_cols = [c for c in df_all.columns if str(c).startswith('fp_')]\n",
    "fp_cols = sorted(fp_cols, key=lambda s: int(str(s).split('_')[1]))\n",
    "X = df_all[fp_cols].to_numpy(dtype=np.float32)\n",
    "y = (df_all['source'].astype(str) == 'PKS').astype(int).to_numpy()\n",
    "df_plot = df_all.copy().reset_index(drop=True)\n",
    "X.shape, df_plot['source'].value_counts()\n"
   ]
  },
  {
   "cell_type": "code",
   "execution_count": null,
   "metadata": {},
   "outputs": [],
   "source": [
    "# Run t-SNE\n",
    "tsne = TSNE(n_components=2, perplexity=30, learning_rate='auto',\n",
    "            init='pca', n_iter=1000, verbose=1, random_state=42)\n",
    "emb = tsne.fit_transform(X)\n",
    "df_plot['tsne_1'] = emb[:, 0]\n",
    "df_plot['tsne_2'] = emb[:, 1]\n",
    "df_plot[['tsne_1', 'tsne_2', 'source']].head()\n"
   ]
  },
  {
   "cell_type": "code",
   "execution_count": null,
   "metadata": {},
   "outputs": [],
   "source": [
    "# Plot\n",
    "plt.figure(figsize=(8, 6))\n",
    "sns.scatterplot(data=df_plot, x='tsne_1', y='tsne_2', hue='source',\n",
    "                palette={'PKS': '#1f77b4', 'bio': '#2ca02c', 'chem': '#ff7f0e'},\n",
    "                alpha=0.6, s=8, linewidth=0)\n",
    "plt.title('t-SNE of ECFP4 fingerprints: PKS vs non-PKS')\n",
    "plt.legend(title='source', markerscale=2)\n",
    "plt.tight_layout()\n",
    "out_path = Path('../data/processed/tsne_pks_vs_nonpks.png')\n",
    "out_path.parent.mkdir(parents=True, exist_ok=True)\n",
    "plt.savefig(out_path, dpi=200)\n",
    "print('Saved figure to', out_path)\n",
    "plt.show()\n"
   ]
  }
 ],
 "metadata": {
  "kernelspec": {
   "display_name": "MCTS_py311_env",
   "language": "python",
   "name": "python3"
  },
  "language_info": {
   "codemirror_mode": {
    "name": "ipython",
    "version": 3
   },
   "file_extension": ".py",
   "mimetype": "text/x-python",
   "name": "python",
   "nbconvert_exporter": "python",
   "pygments_lexer": "ipython3",
   "version": "3.11.13"
  }
 },
 "nbformat": 4,
 "nbformat_minor": 5
}
